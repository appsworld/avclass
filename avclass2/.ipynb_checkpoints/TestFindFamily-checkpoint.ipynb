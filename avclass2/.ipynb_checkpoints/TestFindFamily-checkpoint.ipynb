{
 "cells": [
  {
   "cell_type": "code",
   "execution_count": 1,
   "id": "7cc93100-92c5-46ca-a3ca-a01c3f6cd954",
   "metadata": {},
   "outputs": [],
   "source": [
    "from av_label_class import find_family"
   ]
  },
  {
   "cell_type": "code",
   "execution_count": 5,
   "id": "fe3ebabd-391a-4b5c-8705-ea23f84899e1",
   "metadata": {},
   "outputs": [],
   "source": [
    "result = find_family(vt=\"metadata.json\")"
   ]
  },
  {
   "cell_type": "code",
   "execution_count": 6,
   "id": "e7d91b11-0100-4d5f-b42b-54468b1a92c2",
   "metadata": {},
   "outputs": [],
   "source": [
    "def get_fam_beh(result):\n",
    "    fam_class_behavior = {\"classes\": [], \"families\" : [], \"behaviors\":[]}\n",
    "    for val in result.split(\",\"):\n",
    "        val_split = val.split(\"|\")\n",
    "        if len(val_split) != 2:\n",
    "            continue\n",
    "        count = val_split[1]\n",
    "        map_val = val_split[0]\n",
    "        map_split = map_val.split(\":\")\n",
    "        if len(map_split) != 2:\n",
    "            continue\n",
    "        fam_key = map_split[0]\n",
    "        fam_val = map_split[1]\n",
    "        if fam_key in (\"FAM\", \"UNK\"):\n",
    "            fam_class_behavior['families'].append({fam_val:count})\n",
    "        if fam_key in (\"CLASS\"):\n",
    "            fam_class_behavior['classes'].append({fam_val:count})\n",
    "        if fam_key in (\"BEH\"):\n",
    "            fam_class_behavior['behaviors'].append({fam_val:count})\n",
    "\n",
    "    return fam_class_behavior"
   ]
  },
  {
   "cell_type": "code",
   "execution_count": 7,
   "id": "e33b06f6-56d3-4739-8e0a-2a51c26b5e55",
   "metadata": {},
   "outputs": [
    {
     "data": {
      "text/plain": [
       "{'classes': [{'grayware': '7'}],\n",
       " 'families': [{'bundlore': '8'}, {'macos': '2'}],\n",
       " 'behaviors': [{'jswebinject': '3'}]}"
      ]
     },
     "execution_count": 7,
     "metadata": {},
     "output_type": "execute_result"
    }
   ],
   "source": [
    "get_fam_beh(result)"
   ]
  },
  {
   "cell_type": "code",
   "execution_count": null,
   "id": "b41fc069-9e1a-4de1-9444-cc0255300042",
   "metadata": {},
   "outputs": [],
   "source": []
  }
 ],
 "metadata": {
  "kernelspec": {
   "display_name": "Python 3 (ipykernel)",
   "language": "python",
   "name": "python3"
  },
  "language_info": {
   "codemirror_mode": {
    "name": "ipython",
    "version": 3
   },
   "file_extension": ".py",
   "mimetype": "text/x-python",
   "name": "python",
   "nbconvert_exporter": "python",
   "pygments_lexer": "ipython3",
   "version": "3.10.8"
  }
 },
 "nbformat": 4,
 "nbformat_minor": 5
}
